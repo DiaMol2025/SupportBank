{
 "cells": [
  {
   "metadata": {
    "ExecuteTime": {
     "end_time": "2025-04-28T11:23:54.830916Z",
     "start_time": "2025-04-28T11:23:54.826649Z"
    }
   },
   "cell_type": "code",
   "source": [
    "from dbm import error\n",
    "import os\n",
    "import pandas as pd\n",
    "import logging\n",
    "from datetime import datetime"
   ],
   "id": "3fa8c3ae7306f73d",
   "outputs": [],
   "execution_count": 35
  },
  {
   "metadata": {
    "ExecuteTime": {
     "end_time": "2025-04-28T11:24:25.395103Z",
     "start_time": "2025-04-28T11:24:25.389642Z"
    }
   },
   "cell_type": "code",
   "source": "os.listdir('data')",
   "id": "8b1bc1e1c8865813",
   "outputs": [
    {
     "data": {
      "text/plain": [
       "['DodgyTransactions2015.csv', 'Transactions2013.json', 'Transactions2014.csv']"
      ]
     },
     "execution_count": 36,
     "metadata": {},
     "output_type": "execute_result"
    }
   ],
   "execution_count": 36
  },
  {
   "metadata": {
    "ExecuteTime": {
     "end_time": "2025-04-28T15:49:42.995712Z",
     "start_time": "2025-04-28T15:49:42.986201Z"
    }
   },
   "cell_type": "code",
   "source": "df.head(2)",
   "id": "5b18cd4eca6f59d9",
   "outputs": [
    {
     "data": {
      "text/plain": [
       "    Date    Description  Amount       From     To\n",
       "0  40909  Snooker Night    9.22  Gergana I  Jon A\n",
       "1  40910         Coffee    6.98      Sam N  Dan W"
      ],
      "text/html": [
       "<div>\n",
       "<style scoped>\n",
       "    .dataframe tbody tr th:only-of-type {\n",
       "        vertical-align: middle;\n",
       "    }\n",
       "\n",
       "    .dataframe tbody tr th {\n",
       "        vertical-align: top;\n",
       "    }\n",
       "\n",
       "    .dataframe thead th {\n",
       "        text-align: right;\n",
       "    }\n",
       "</style>\n",
       "<table border=\"1\" class=\"dataframe\">\n",
       "  <thead>\n",
       "    <tr style=\"text-align: right;\">\n",
       "      <th></th>\n",
       "      <th>Date</th>\n",
       "      <th>Description</th>\n",
       "      <th>Amount</th>\n",
       "      <th>From</th>\n",
       "      <th>To</th>\n",
       "    </tr>\n",
       "  </thead>\n",
       "  <tbody>\n",
       "    <tr>\n",
       "      <th>0</th>\n",
       "      <td>40909</td>\n",
       "      <td>Snooker Night</td>\n",
       "      <td>9.22</td>\n",
       "      <td>Gergana I</td>\n",
       "      <td>Jon A</td>\n",
       "    </tr>\n",
       "    <tr>\n",
       "      <th>1</th>\n",
       "      <td>40910</td>\n",
       "      <td>Coffee</td>\n",
       "      <td>6.98</td>\n",
       "      <td>Sam N</td>\n",
       "      <td>Dan W</td>\n",
       "    </tr>\n",
       "  </tbody>\n",
       "</table>\n",
       "</div>"
      ]
     },
     "execution_count": 146,
     "metadata": {},
     "output_type": "execute_result"
    }
   ],
   "execution_count": 146
  },
  {
   "metadata": {},
   "cell_type": "code",
   "outputs": [],
   "execution_count": null,
   "source": [
    "check = \"2012-01-06\"\n",
    "check.date"
   ],
   "id": "40a9b3bafabffdab"
  },
  {
   "cell_type": "code",
   "id": "initial_id",
   "metadata": {
    "collapsed": true,
    "ExecuteTime": {
     "end_time": "2025-04-28T15:35:48.572259Z",
     "start_time": "2025-04-28T15:35:48.560053Z"
    }
   },
   "source": [
    "\n",
    "source = 'Transactions2014.csv'\n",
    "dodgy_source = 'DodgyTransactions2015.csv'\n",
    "json_source = 'Transactions2013.json'\n",
    "#data = pd.read_csv(source)\n",
    "#dodgy = pd.read_csv(dodgy_source)\n",
    "#json = pd.read_json(json_source,dtype={'Date':str})\n",
    "\n",
    "xml = pd.read_xml('data/Transactions2012.xml',xpath ='.//SupportTransaction')\n",
    "xml_names = pd.read_xml('data/Transactions2012.xml',xpath ='.//Parties')\n",
    "#json.rename(columns = {'FromAccount':'From','ToAccount':'To'}, inplace = True)\n",
    "df = pd.concat([xml,xml_names],axis = 1)\n",
    "\n",
    "df.drop(columns = ['Parties'], inplace = True)\n",
    "df.rename(columns={'Value':'Amount'}, inplace = True)\n"
   ],
   "outputs": [],
   "execution_count": 145
  },
  {
   "metadata": {
    "ExecuteTime": {
     "end_time": "2025-04-28T16:23:47.126370Z",
     "start_time": "2025-04-28T16:23:47.120831Z"
    }
   },
   "cell_type": "code",
   "source": [
    "import re\n",
    "date =datetime.fromordinal(datetime(1900, 1, 1).toordinal() + 40909 - 2)\n",
    "year=re.findall(r'\\d+',source)\n",
    "date.timetuple()[0]==int(year[0])\n",
    "date.date()\n"
   ],
   "id": "73b9560b04715de3",
   "outputs": [
    {
     "data": {
      "text/plain": [
       "datetime.date(2012, 1, 1)"
      ]
     },
     "execution_count": 149,
     "metadata": {},
     "output_type": "execute_result"
    }
   ],
   "execution_count": 149
  },
  {
   "metadata": {
    "ExecuteTime": {
     "end_time": "2025-04-28T14:19:59.909990Z",
     "start_time": "2025-04-28T14:15:16.710018Z"
    }
   },
   "cell_type": "code",
   "source": [
    "accounts = {}\n",
    "for index, row in df.iterrows():\n",
    "    sender = row['From']\n",
    "    recipient = row['To']\n",
    "    amount = round(float(row['Amount']),1)\n",
    "    date = row['Date']\n",
    "    print(date)\n",
    "    date_format = '%Y-%m-%d'\n",
    "    print(datetime.strptime(date, date_format))\n",
    "    if sender not in accounts:\n",
    "        accounts[sender] = 0\n",
    "    if recipient not in accounts:\n",
    "        accounts[recipient] = 0\n",
    "    accounts[sender]-=amount\n",
    "    accounts[recipient]+=amount\n"
   ],
   "id": "3b47b4d9164e632b",
   "outputs": [
    {
     "ename": "KeyboardInterrupt",
     "evalue": "",
     "output_type": "error",
     "traceback": [
      "\u001B[31m---------------------------------------------------------------------------\u001B[39m",
      "\u001B[31mKeyboardInterrupt\u001B[39m                         Traceback (most recent call last)",
      "\u001B[36mCell\u001B[39m\u001B[36m \u001B[39m\u001B[32mIn[124]\u001B[39m\u001B[32m, line 1\u001B[39m\n\u001B[32m----> \u001B[39m\u001B[32m1\u001B[39m accounts = {}\n\u001B[32m      2\u001B[39m \u001B[38;5;28;01mfor\u001B[39;00m index, row \u001B[38;5;129;01min\u001B[39;00m df.iterrows():\n\u001B[32m      3\u001B[39m     sender = row[\u001B[33m'\u001B[39m\u001B[33mFrom\u001B[39m\u001B[33m'\u001B[39m]\n",
      "\u001B[36mFile \u001B[39m\u001B[32m~\\AppData\\Local\\Programs\\PyCharm\\plugins\\python-ce\\helpers\\pydev\\_pydevd_bundle\\pydevd_frame.py:755\u001B[39m, in \u001B[36mPyDBFrame.trace_dispatch\u001B[39m\u001B[34m(self, frame, event, arg)\u001B[39m\n\u001B[32m    753\u001B[39m \u001B[38;5;66;03m# if thread has a suspend flag, we suspend with a busy wait\u001B[39;00m\n\u001B[32m    754\u001B[39m \u001B[38;5;28;01mif\u001B[39;00m info.pydev_state == STATE_SUSPEND:\n\u001B[32m--> \u001B[39m\u001B[32m755\u001B[39m     \u001B[38;5;28;43mself\u001B[39;49m\u001B[43m.\u001B[49m\u001B[43mdo_wait_suspend\u001B[49m\u001B[43m(\u001B[49m\u001B[43mthread\u001B[49m\u001B[43m,\u001B[49m\u001B[43m \u001B[49m\u001B[43mframe\u001B[49m\u001B[43m,\u001B[49m\u001B[43m \u001B[49m\u001B[43mevent\u001B[49m\u001B[43m,\u001B[49m\u001B[43m \u001B[49m\u001B[43marg\u001B[49m\u001B[43m)\u001B[49m\n\u001B[32m    756\u001B[39m     \u001B[38;5;66;03m# No need to reset frame.f_trace to keep the same trace function.\u001B[39;00m\n\u001B[32m    757\u001B[39m     \u001B[38;5;28;01mreturn\u001B[39;00m \u001B[38;5;28mself\u001B[39m.trace_dispatch\n",
      "\u001B[36mFile \u001B[39m\u001B[32m~\\AppData\\Local\\Programs\\PyCharm\\plugins\\python-ce\\helpers\\pydev\\_pydevd_bundle\\pydevd_frame.py:412\u001B[39m, in \u001B[36mPyDBFrame.do_wait_suspend\u001B[39m\u001B[34m(self, *args, **kwargs)\u001B[39m\n\u001B[32m    411\u001B[39m \u001B[38;5;28;01mdef\u001B[39;00m\u001B[38;5;250m \u001B[39m\u001B[34mdo_wait_suspend\u001B[39m(\u001B[38;5;28mself\u001B[39m, *args, **kwargs):\n\u001B[32m--> \u001B[39m\u001B[32m412\u001B[39m     \u001B[38;5;28;43mself\u001B[39;49m\u001B[43m.\u001B[49m\u001B[43m_args\u001B[49m\u001B[43m[\u001B[49m\u001B[32;43m0\u001B[39;49m\u001B[43m]\u001B[49m\u001B[43m.\u001B[49m\u001B[43mdo_wait_suspend\u001B[49m\u001B[43m(\u001B[49m\u001B[43m*\u001B[49m\u001B[43margs\u001B[49m\u001B[43m,\u001B[49m\u001B[43m \u001B[49m\u001B[43m*\u001B[49m\u001B[43m*\u001B[49m\u001B[43mkwargs\u001B[49m\u001B[43m)\u001B[49m\n",
      "\u001B[36mFile \u001B[39m\u001B[32m~\\AppData\\Local\\Programs\\PyCharm\\plugins\\python-ce\\helpers\\pydev\\pydevd.py:1220\u001B[39m, in \u001B[36mPyDB.do_wait_suspend\u001B[39m\u001B[34m(self, thread, frame, event, arg, send_suspend_message, is_unhandled_exception)\u001B[39m\n\u001B[32m   1217\u001B[39m         from_this_thread.append(frame_id)\n\u001B[32m   1219\u001B[39m \u001B[38;5;28;01mwith\u001B[39;00m \u001B[38;5;28mself\u001B[39m._threads_suspended_single_notification.notify_thread_suspended(thread_id, stop_reason):\n\u001B[32m-> \u001B[39m\u001B[32m1220\u001B[39m     \u001B[38;5;28;43mself\u001B[39;49m\u001B[43m.\u001B[49m\u001B[43m_do_wait_suspend\u001B[49m\u001B[43m(\u001B[49m\u001B[43mthread\u001B[49m\u001B[43m,\u001B[49m\u001B[43m \u001B[49m\u001B[43mframe\u001B[49m\u001B[43m,\u001B[49m\u001B[43m \u001B[49m\u001B[43mevent\u001B[49m\u001B[43m,\u001B[49m\u001B[43m \u001B[49m\u001B[43marg\u001B[49m\u001B[43m,\u001B[49m\u001B[43m \u001B[49m\u001B[43msuspend_type\u001B[49m\u001B[43m,\u001B[49m\u001B[43m \u001B[49m\u001B[43mfrom_this_thread\u001B[49m\u001B[43m)\u001B[49m\n",
      "\u001B[36mFile \u001B[39m\u001B[32m~\\AppData\\Local\\Programs\\PyCharm\\plugins\\python-ce\\helpers\\pydev\\pydevd.py:1235\u001B[39m, in \u001B[36mPyDB._do_wait_suspend\u001B[39m\u001B[34m(self, thread, frame, event, arg, suspend_type, from_this_thread)\u001B[39m\n\u001B[32m   1232\u001B[39m             \u001B[38;5;28mself\u001B[39m._call_mpl_hook()\n\u001B[32m   1234\u001B[39m         \u001B[38;5;28mself\u001B[39m.process_internal_commands()\n\u001B[32m-> \u001B[39m\u001B[32m1235\u001B[39m         \u001B[43mtime\u001B[49m\u001B[43m.\u001B[49m\u001B[43msleep\u001B[49m\u001B[43m(\u001B[49m\u001B[32;43m0.01\u001B[39;49m\u001B[43m)\u001B[49m\n\u001B[32m   1237\u001B[39m \u001B[38;5;28mself\u001B[39m.cancel_async_evaluation(get_current_thread_id(thread), \u001B[38;5;28mstr\u001B[39m(\u001B[38;5;28mid\u001B[39m(frame)))\n\u001B[32m   1239\u001B[39m \u001B[38;5;66;03m# process any stepping instructions\u001B[39;00m\n",
      "\u001B[31mKeyboardInterrupt\u001B[39m: "
     ]
    }
   ],
   "execution_count": 124
  },
  {
   "metadata": {
    "ExecuteTime": {
     "end_time": "2025-04-25T13:22:11.723943Z",
     "start_time": "2025-04-25T13:22:11.720710Z"
    }
   },
   "cell_type": "code",
   "source": [
    "def list_all():\n",
    "    for key, value in accounts.items():\n",
    "        print(f'{key}: {round(value,2)}')\n"
   ],
   "id": "630a3700152178c5",
   "outputs": [],
   "execution_count": 99
  },
  {
   "metadata": {
    "ExecuteTime": {
     "end_time": "2025-04-25T13:22:12.907905Z",
     "start_time": "2025-04-25T13:22:12.902884Z"
    }
   },
   "cell_type": "code",
   "source": "list_all()",
   "id": "cf36d9be500d15e7",
   "outputs": [
    {
     "name": "stdout",
     "output_type": "stream",
     "text": [
      "Jon A: -88.4\n",
      "Sarah T: -28.9\n",
      "Stephen S: 37.2\n",
      "Tim L: 19.8\n",
      "Laura B: -22.2\n",
      "Rob S: 26.8\n",
      "Ben B: 33.6\n",
      "Sam N: 28.5\n",
      "Gergana I: 46.3\n",
      "Todd: -12.1\n",
      "Chris W: -45.0\n",
      "Dan W: 4.4\n"
     ]
    }
   ],
   "execution_count": 100
  },
  {
   "metadata": {
    "ExecuteTime": {
     "end_time": "2025-04-25T16:23:23.012058Z",
     "start_time": "2025-04-25T16:23:23.007635Z"
    }
   },
   "cell_type": "code",
   "source": [
    "def listed(account):\n",
    "    if account in data['From'].unique() or account in data['To'].unique():\n",
    "        for index,row in data.iterrows():\n",
    "\n",
    "            if row['From'] == account:\n",
    "                print(f'{row['From']} to {row['To']} on {row['Date']}: {round(row['Amount'],2)}, {row['Narrative']}')\n",
    "            elif row['To'] == account:\n",
    "                print(f'{row['From']} to {row['To']} on {row['Date']}: {round(row['Amount'],2)}, {row['Narrative']}')\n",
    "    else:\n",
    "        print(f'{account} is not in accounts')\n",
    "\n"
   ],
   "id": "e12c8ae60c361716",
   "outputs": [],
   "execution_count": 129
  },
  {
   "metadata": {
    "ExecuteTime": {
     "end_time": "2025-04-25T16:23:25.003840Z",
     "start_time": "2025-04-25T16:23:24.992582Z"
    }
   },
   "cell_type": "code",
   "source": "listed('Jon A')",
   "id": "22d1be1422c33473",
   "outputs": [
    {
     "name": "stdout",
     "output_type": "stream",
     "text": [
      "Jon A to Sarah T on 01/01/2014: 7.8, Pokemon Training\n",
      "Jon A to Sam N on 07/02/2014: 1.65, Beers\n",
      "Stephen S to Jon A on 01/03/2014: 8.75, Coffee\n",
      "Jon A to Sam N on 23/03/2014: 8.49, Lunch\n",
      "Jon A to Stephen S on 06/04/2014: 8.91, Beers\n",
      "Jon A to Gergana I on 03/05/2014: 10.51, Rails Consultancy\n",
      "Jon A to Todd on 19/05/2014: 9.04, Beers\n",
      "Rob S to Jon A on 01/07/2014: 2.67, Lunch\n",
      "Sam N to Jon A on 06/07/2014: 4.37, Beers\n",
      "Jon A to Dan W on 16/07/2014: 11.75, Coffee\n",
      "Jon A to Sam N on 29/07/2014: 5.31, Lunch\n",
      "Jon A to Tim L on 18/08/2014: 7.22, Lego Assistance\n",
      "Jon A to Tim L on 03/09/2014: 8.13, Lunch\n",
      "Laura B to Jon A on 12/09/2014: 3.11, Git-Fu Rendered\n",
      "Jon A to Ben B on 20/09/2014: 3.71, Beers\n",
      "Jon A to Laura B on 24/09/2014: 5.61, Golf Bets\n",
      "Jon A to Dan W on 30/09/2014: 9.26, Sandbox Help\n",
      "Jon A to Dan W on 23/10/2014: 2.37, Lunch\n",
      "Jon A to Ben B on 11/11/2014: 0.73, Stationary Items\n",
      "Laura B to Jon A on 19/11/2014: 2.61, Coffee\n",
      "Jon A to Sam N on 02/12/2014: 11.04, Pokemon Training\n",
      "Jon A to Chris W on 09/12/2014: 2.26, Pokemon Training\n",
      "Dan W to Jon A on 22/12/2014: 3.66, Lunch\n"
     ]
    }
   ],
   "execution_count": 130
  }
 ],
 "metadata": {
  "kernelspec": {
   "display_name": "Python 3",
   "language": "python",
   "name": "python3"
  },
  "language_info": {
   "codemirror_mode": {
    "name": "ipython",
    "version": 2
   },
   "file_extension": ".py",
   "mimetype": "text/x-python",
   "name": "python",
   "nbconvert_exporter": "python",
   "pygments_lexer": "ipython2",
   "version": "2.7.6"
  }
 },
 "nbformat": 4,
 "nbformat_minor": 5
}
